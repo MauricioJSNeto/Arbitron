{
 "cells": [
  {
   "cell_type": "markdown",
   "metadata": {},
   "source": [
    "# Tutorial de Arbitragem\n",
    "Exemplo passo a passo para usar as estratégias."
   ]
  }
 ]
}
